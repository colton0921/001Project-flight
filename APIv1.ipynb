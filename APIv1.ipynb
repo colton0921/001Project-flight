{
 "metadata": {
  "language_info": {
   "codemirror_mode": {
    "name": "ipython",
    "version": 3
   },
   "file_extension": ".py",
   "mimetype": "text/x-python",
   "name": "python",
   "nbconvert_exporter": "python",
   "pygments_lexer": "ipython3",
   "version": "3.7.6-final"
  },
  "orig_nbformat": 2,
  "kernelspec": {
   "name": "python3",
   "display_name": "Python 3",
   "language": "python"
  }
 },
 "nbformat": 4,
 "nbformat_minor": 2,
 "cells": [
  {
   "cell_type": "code",
   "execution_count": 8,
   "metadata": {},
   "outputs": [
    {
     "output_type": "stream",
     "name": "stdout",
     "text": [
      "<Response [401]>\n"
     ]
    },
    {
     "output_type": "error",
     "ename": "TypeError",
     "evalue": "'module' object is not callable",
     "traceback": [
      "\u001b[1;31m---------------------------------------------------------------------------\u001b[0m",
      "\u001b[1;31mTypeError\u001b[0m                                 Traceback (most recent call last)",
      "\u001b[1;32m<ipython-input-8-eeb3b560af27>\u001b[0m in \u001b[0;36m<module>\u001b[1;34m\u001b[0m\n\u001b[0;32m      4\u001b[0m \u001b[0m_re\u001b[0m \u001b[1;33m=\u001b[0m \u001b[0mrequests\u001b[0m\u001b[1;33m.\u001b[0m\u001b[0mget\u001b[0m\u001b[1;33m(\u001b[0m\u001b[1;34m'https://api.apify.com/v2/actor-tasks/janedoe~my-task/run-sync-get-dataset-items'\u001b[0m\u001b[1;33m)\u001b[0m\u001b[1;33m\u001b[0m\u001b[1;33m\u001b[0m\u001b[0m\n\u001b[0;32m      5\u001b[0m \u001b[0mprint\u001b[0m\u001b[1;33m(\u001b[0m\u001b[0m_re\u001b[0m\u001b[1;33m)\u001b[0m\u001b[1;33m\u001b[0m\u001b[1;33m\u001b[0m\u001b[0m\n\u001b[1;32m----> 6\u001b[1;33m \u001b[0mresponse_body\u001b[0m \u001b[1;33m=\u001b[0m \u001b[0murlopen\u001b[0m\u001b[1;33m(\u001b[0m\u001b[0m_re\u001b[0m\u001b[1;33m)\u001b[0m\u001b[1;33m.\u001b[0m\u001b[0mread\u001b[0m\u001b[1;33m(\u001b[0m\u001b[1;33m)\u001b[0m\u001b[1;33m\u001b[0m\u001b[1;33m\u001b[0m\u001b[0m\n\u001b[0m",
      "\u001b[1;31mTypeError\u001b[0m: 'module' object is not callable"
     ]
    }
   ],
   "source": [
    "import requests\n",
    "import urlopen\n",
    "#from urllib2 \n",
    "_re = requests.get('https://api.apify.com/v2/actor-tasks/janedoe~my-task/run-sync-get-dataset-items')\n",
    "print(_re)\n",
    "response_body = urlopen(_re).read()"
   ]
  },
  {
   "cell_type": "code",
   "execution_count": 2,
   "metadata": {},
   "outputs": [
    {
     "output_type": "stream",
     "name": "stdout",
     "text": [
      "[{\"id\":1,\"name\":\"A.T. Still University\",\"countryCode\":\"US\"},{\"id\":2,\"name\":\"Aalborg Universitet\",\"countryCode\":\"DK\"},{\"id\":3,\"name\":\"Aalto-yliopisto\",\"countryCode\":\"FI\"},{\"id\":4,\"name\":\"Aarhus Universitet\",\"countryCode\":\"DK\"},{\"id\":5,\"name\":\"Aba Teachers University\",\"countryCode\":\"CN\"},{\"id\":6,\"name\":\"Abant Izzet Baysal Üniversitesi\",\"countryCode\":\"TR\"},{\"id\":7,\"name\":\"Abasyn University\",\"countryCode\":\"PK\"},{\"id\":8,\"name\":\"Abbottabad University of Science and Technology\",\"countryCode\":\"PK\"},{\"id\":9,\"name\":\"Abdul Wali Khan University Mardan\",\"countryCode\":\"PK\"},{\"id\":10,\"name\":\"Abdullah Gül Üniversitesi\",\"countryCode\":\"TR\"}]\n"
     ]
    }
   ],
   "source": [
    "import requests\n",
    "\n",
    "url = \"https://universities-and-colleges.p.rapidapi.com/universities\"\n",
    "\n",
    "headers = {\n",
    "    'x-rapidapi-key': \"43b1db639cmsh17c36d613d70046p1c85e7jsn860686f7f5de\",\n",
    "    'x-rapidapi-host': \"universities-and-colleges.p.rapidapi.com\"\n",
    "    }\n",
    "\n",
    "response = requests.request(\"GET\", url, headers=headers)\n",
    "\n",
    "print(response.text)"
   ]
  },
  {
   "cell_type": "code",
   "execution_count": 12,
   "metadata": {},
   "outputs": [
    {
     "output_type": "stream",
     "name": "stdout",
     "text": [
      "{\n  \"errors\" : [ \"path param outboundDate Invalid Date Range provided 2019-09-01\" ]\n}\n"
     ]
    }
   ],
   "source": [
    "import requests\n",
    "\n",
    "url = \"https://skyscanner-skyscanner-flight-search-v1.p.rapidapi.com/apiservices/browseroutes/v1.0/US/USD/en-US/SFO-sky/ORD-sky/2019-09-01\"\n",
    "\n",
    "querystring = {\"inboundpartialdate\":\"2020-12-01\"}\n",
    "\n",
    "headers = {\n",
    "    'x-rapidapi-key': \"43b1db639cmsh17c36d613d70046p1c85e7jsn860686f7f5de\",\n",
    "    'x-rapidapi-host': \"skyscanner-skyscanner-flight-search-v1.p.rapidapi.com\"\n",
    "    }\n",
    "\n",
    "response = requests.request(\"GET\", url, headers=headers, params=querystring)\n",
    "\n",
    "print(response.text)"
   ]
  },
  {
   "cell_type": "code",
   "execution_count": 102,
   "metadata": {
    "tags": []
   },
   "outputs": [
    {
     "output_type": "stream",
     "name": "stdout",
     "text": [
      "    destination terminal  ... statusCode                  status\n0         [FRA]       T1  ...         DA               Dep 01:09\n1         [AMS]       T1  ...         DA               Dep 01:08\n2         [LHR]       T1  ...         DA               Dep 01:34\n3         [LHR]       T1  ...         DA               Dep 01:22\n4         [TLV]       T1  ...         DA               Dep 01:21\n..          ...      ...  ...        ...                     ...\n104       [IST]       T1  ...         DA               Dep 22:38\n105       [LHR]       T1  ...         DA  Dep 00:16 (02/12/2020)\n106       [LHR]       T1  ...         DA  Dep 00:05 (02/12/2020)\n107       [SYD]       T1  ...         DA               Dep 23:54\n108       [LHR]       T1  ...         DA  Dep 00:50 (02/12/2020)\n\n[109 rows x 8 columns]\n"
     ]
    }
   ],
   "source": [
    "#doc:   https://www.hongkongairport.com/iwov-resources/misc/opendata/Flight_Information_DataSpec_en.pdf\n",
    "#site:  https://data.gov.hk/en-data/dataset/aahk-team1-flight-info\n",
    "import requests\n",
    "\n",
    "#url = \"https://www.hongkongairport.com/flightinfo-rest/rest/flights/past?date=%3cDate%3e&arrival=%3cBoolen%3e&lang=%3cLanguage%3e&cargo=%3cBoolean\"\n",
    "#https://www.hongkongairport.com/flightinfo-rest/rest/flights/past?date=&lang=en&cargo=false&arrival=false\n",
    "\n",
    "url = \"https://www.hongkongairport.com/flightinfo-rest/rest/flights/past?date=2020-12-01&lang=en&cargo=false&arrival=false\"\n",
    "querystring = {\"Date\":\"2020-12-01\"}\n",
    "\n",
    "response = requests.request(\"GET\", url, headers=headers, params=querystring)\n",
    "\n",
    "import pandas as pd\n",
    "#pprint.pprint(response.text)\n",
    "df = pd.read_json(response.text)\n",
    "df_temp = pd.DataFrame(  df['list'][0])\n",
    "df_temp.to_csv('air20201201_2.csv' , index = None)\n",
    "print(df_temp)"
   ]
  },
  {
   "cell_type": "code",
   "execution_count": 26,
   "metadata": {},
   "outputs": [],
   "source": [
    "#To get dataset on 20201201 for coding\n",
    "import requests\n",
    "import re\n",
    "import pandas as pd\n",
    "import pprint                  # Prints the nicely formatted dictionary\n",
    "from datetime import datetime   # to do time calculation  #convert to datetime_object = datetime.strptime(datetime_str, '%m/%d/%y %H:%M:%S')\n",
    "url = \"https://www.hongkongairport.com/flightinfo-rest/rest/flights/past?date=2020-12-01&lang=en&cargo=false&arrival=false\"\n",
    "querystring = {\"Date\":\"2020-12-01\"}     # Date: String: “YYYY-MM-DD” ; Arrival: (true=arrival, false=departure); Cargo (true=cargo, false=passenger)\n",
    "\n",
    "response = requests.request(\"GET\", url,  params=querystring)\n",
    "\n",
    "#pprint.pprint(response.text)\n",
    "df = pd.read_json(response.text)\n",
    "df_backup = df"
   ]
  },
  {
   "cell_type": "code",
   "execution_count": 29,
   "metadata": {},
   "outputs": [
    {
     "output_type": "stream",
     "name": "stdout",
     "text": [
      "        date  arrival  cargo  \\\n0 2020-12-03    False  False   \n\n                                                list  \n0  [{'destination': ['AMM'], 'terminal': 'T1', 'a...  \n"
     ]
    }
   ],
   "source": [
    "#part 1 - version 2:  To get dataset of certain date \n",
    "import requests\n",
    "import re\n",
    "import pandas as pd\n",
    "import pprint                  # Prints the nicely formatted dictionary\n",
    "from datetime import datetime   # to do time calculation  #convert to datetime_object = datetime.strptime(datetime_str, '%m/%d/%y %H:%M:%S')\n",
    "Date = '2020-12-03'  # <Edit date\n",
    "url = \"https://www.hongkongairport.com/flightinfo-rest/rest/flights/past?date=\" + Date + \"&lang=en&cargo=false&arrival=false\"\n",
    "querystring = {\"Date\":Date}     # Date: String: “YYYY-MM-DD” ; Arrival: (true=arrival, false=departure); Cargo (true=cargo, false=passenger)\n",
    "\n",
    "response = requests.request(\"GET\", url, params=querystring)\n",
    "\n",
    "#pprint.pprint(response.text)\n",
    "df = pd.read_json(response.text)\n",
    "df_backup = df\n",
    "print(df)"
   ]
  },
  {
   "cell_type": "code",
   "execution_count": 87,
   "metadata": {
    "tags": []
   },
   "outputs": [
    {
     "output_type": "stream",
     "name": "stdout",
     "text": [
      "2020-12-01  with type of : <class 'datetime.date'>\n",
      "https://www.hongkongairport.com/flightinfo-rest/rest/flights/past?date=2020-12-01&lang=en&cargo=false&arrival=false\n",
      "2020-12-02  with type of : <class 'datetime.date'>\n",
      "https://www.hongkongairport.com/flightinfo-rest/rest/flights/past?date=2020-12-02&lang=en&cargo=false&arrival=false\n",
      "2020-12-03  with type of : <class 'datetime.date'>\n",
      "https://www.hongkongairport.com/flightinfo-rest/rest/flights/past?date=2020-12-03&lang=en&cargo=false&arrival=false\n",
      "2020-12-04  with type of : <class 'datetime.date'>\n",
      "https://www.hongkongairport.com/flightinfo-rest/rest/flights/past?date=2020-12-04&lang=en&cargo=false&arrival=false\n",
      "2020-12-05  with type of : <class 'datetime.date'>\n",
      "https://www.hongkongairport.com/flightinfo-rest/rest/flights/past?date=2020-12-05&lang=en&cargo=false&arrival=false\n",
      "2020-12-06  with type of : <class 'datetime.date'>\n",
      "https://www.hongkongairport.com/flightinfo-rest/rest/flights/past?date=2020-12-06&lang=en&cargo=false&arrival=false\n",
      "2020-12-07  with type of : <class 'datetime.date'>\n",
      "https://www.hongkongairport.com/flightinfo-rest/rest/flights/past?date=2020-12-07&lang=en&cargo=false&arrival=false\n",
      "2020-12-08  with type of : <class 'datetime.date'>\n",
      "https://www.hongkongairport.com/flightinfo-rest/rest/flights/past?date=2020-12-08&lang=en&cargo=false&arrival=false\n",
      "2020-12-09  with type of : <class 'datetime.date'>\n",
      "https://www.hongkongairport.com/flightinfo-rest/rest/flights/past?date=2020-12-09&lang=en&cargo=false&arrival=false\n",
      "2020-12-10  with type of : <class 'datetime.date'>\n",
      "https://www.hongkongairport.com/flightinfo-rest/rest/flights/past?date=2020-12-10&lang=en&cargo=false&arrival=false\n",
      "2020-12-11  with type of : <class 'datetime.date'>\n",
      "https://www.hongkongairport.com/flightinfo-rest/rest/flights/past?date=2020-12-11&lang=en&cargo=false&arrival=false\n",
      "2020-12-12  with type of : <class 'datetime.date'>\n",
      "https://www.hongkongairport.com/flightinfo-rest/rest/flights/past?date=2020-12-12&lang=en&cargo=false&arrival=false\n",
      "2020-12-13  with type of : <class 'datetime.date'>\n",
      "https://www.hongkongairport.com/flightinfo-rest/rest/flights/past?date=2020-12-13&lang=en&cargo=false&arrival=false\n",
      "2020-12-14  with type of : <class 'datetime.date'>\n",
      "https://www.hongkongairport.com/flightinfo-rest/rest/flights/past?date=2020-12-14&lang=en&cargo=false&arrival=false\n",
      "2020-12-15  with type of : <class 'datetime.date'>\n",
      "https://www.hongkongairport.com/flightinfo-rest/rest/flights/past?date=2020-12-15&lang=en&cargo=false&arrival=false\n",
      "2020-12-16  with type of : <class 'datetime.date'>\n",
      "https://www.hongkongairport.com/flightinfo-rest/rest/flights/past?date=2020-12-16&lang=en&cargo=false&arrival=false\n",
      "2020-12-17  with type of : <class 'datetime.date'>\n",
      "https://www.hongkongairport.com/flightinfo-rest/rest/flights/past?date=2020-12-17&lang=en&cargo=false&arrival=false\n",
      "2020-12-18  with type of : <class 'datetime.date'>\n",
      "https://www.hongkongairport.com/flightinfo-rest/rest/flights/past?date=2020-12-18&lang=en&cargo=false&arrival=false\n",
      "2020-12-19  with type of : <class 'datetime.date'>\n",
      "https://www.hongkongairport.com/flightinfo-rest/rest/flights/past?date=2020-12-19&lang=en&cargo=false&arrival=false\n",
      "2020-12-20  with type of : <class 'datetime.date'>\n",
      "https://www.hongkongairport.com/flightinfo-rest/rest/flights/past?date=2020-12-20&lang=en&cargo=false&arrival=false\n",
      "2020-12-21  with type of : <class 'datetime.date'>\n",
      "https://www.hongkongairport.com/flightinfo-rest/rest/flights/past?date=2020-12-21&lang=en&cargo=false&arrival=false\n",
      "2020-12-22  with type of : <class 'datetime.date'>\n",
      "https://www.hongkongairport.com/flightinfo-rest/rest/flights/past?date=2020-12-22&lang=en&cargo=false&arrival=false\n",
      "2020-12-23  with type of : <class 'datetime.date'>\n",
      "https://www.hongkongairport.com/flightinfo-rest/rest/flights/past?date=2020-12-23&lang=en&cargo=false&arrival=false\n",
      "2020-12-24  with type of : <class 'datetime.date'>\n",
      "https://www.hongkongairport.com/flightinfo-rest/rest/flights/past?date=2020-12-24&lang=en&cargo=false&arrival=false\n",
      "2020-12-25  with type of : <class 'datetime.date'>\n",
      "https://www.hongkongairport.com/flightinfo-rest/rest/flights/past?date=2020-12-25&lang=en&cargo=false&arrival=false\n",
      "2020-12-26  with type of : <class 'datetime.date'>\n",
      "https://www.hongkongairport.com/flightinfo-rest/rest/flights/past?date=2020-12-26&lang=en&cargo=false&arrival=false\n",
      "2020-12-27  with type of : <class 'datetime.date'>\n",
      "https://www.hongkongairport.com/flightinfo-rest/rest/flights/past?date=2020-12-27&lang=en&cargo=false&arrival=false\n",
      "2020-12-28  with type of : <class 'datetime.date'>\n",
      "https://www.hongkongairport.com/flightinfo-rest/rest/flights/past?date=2020-12-28&lang=en&cargo=false&arrival=false\n",
      "2020-12-29  with type of : <class 'datetime.date'>\n",
      "https://www.hongkongairport.com/flightinfo-rest/rest/flights/past?date=2020-12-29&lang=en&cargo=false&arrival=false\n",
      "2020-12-30  with type of : <class 'datetime.date'>\n",
      "https://www.hongkongairport.com/flightinfo-rest/rest/flights/past?date=2020-12-30&lang=en&cargo=false&arrival=false\n",
      "2020-12-31  with type of : <class 'datetime.date'>\n",
      "https://www.hongkongairport.com/flightinfo-rest/rest/flights/past?date=2020-12-31&lang=en&cargo=false&arrival=false\n",
      "   destination terminal aisle gate   time  \\\n",
      "0        [FRA]       T1     B   64  00:35   \n",
      "1        [AMS]       T1     B   47  00:50   \n",
      "2        [LHR]       T1          5  01:10   \n",
      "3        [LHR]       T1         45  01:30   \n",
      "4        [TLV]       T1     B   26  01:30   \n",
      "..         ...      ...   ...  ...    ...   \n",
      "85       [HGH]       T1     K       21:50   \n",
      "86       [TPE]       T1          8  22:40   \n",
      "87       [KUL]       T1     K   27  23:00   \n",
      "88       [IST]       T1          9  23:05   \n",
      "89       [SYD]       T1     B   28  23:55   \n",
      "\n",
      "                                               flight statusCode     status  \\\n",
      "0   [{'no': 'CX 289', 'airline': 'CPA'}, {'no': 'L...         DA  Dep 01:09   \n",
      "1                [{'no': 'CX 271', 'airline': 'CPA'}]         DA  Dep 01:08   \n",
      "2               [{'no': 'BA 032F', 'airline': 'BAW'}]         DA  Dep 01:34   \n",
      "3               [{'no': 'BA 028F', 'airline': 'BAW'}]         DA  Dep 01:22   \n",
      "4                [{'no': 'CX 675', 'airline': 'CPA'}]         DA  Dep 01:21   \n",
      "..                                                ...        ...        ...   \n",
      "85  [{'no': 'HX 128', 'airline': 'CRK'}, {'no': 'H...         DA  Dep 21:47   \n",
      "86               [{'no': 'CI 922', 'airline': 'CAL'}]         DA  Dep 22:17   \n",
      "87              [{'no': 'HX 2747', 'airline': 'CRK'}]         DA  Dep 22:45   \n",
      "88              [{'no': 'TK 6081', 'airline': 'THY'}]         DA  Dep 22:49   \n",
      "89  [{'no': 'CX 101', 'airline': 'CPA'}, {'no': 'A...         DA  Dep 23:46   \n",
      "\n",
      "     dept_date  \n",
      "0   2020-12-01  \n",
      "1   2020-12-01  \n",
      "2   2020-12-01  \n",
      "3   2020-12-01  \n",
      "4   2020-12-01  \n",
      "..         ...  \n",
      "85  2020-12-31  \n",
      "86  2020-12-31  \n",
      "87  2020-12-31  \n",
      "88  2020-12-31  \n",
      "89  2020-12-31  \n",
      "\n",
      "[3008 rows x 9 columns]\n"
     ]
    }
   ],
   "source": [
    "#part 1 - version 3:  To get all Dec data\n",
    "import requests\n",
    "import re\n",
    "import pandas as pd\n",
    "import pprint                  # Prints the nicely formatted dictionary\n",
    "import datetime\n",
    "#from datetime import datetime   # to do time calculation  #convert to datetime_object = datetime.strptime(datetime_str, '%m/%d/%y %H:%M:%S')    \n",
    "from datetime import timedelta\n",
    "\n",
    "date_base = datetime.date(2020, 12, 1)\n",
    "num_days = 31\n",
    "df_list_all_date = []\n",
    "\n",
    "for x in range(num_days):\n",
    "    Date = date_base + datetime.timedelta(days=x)\n",
    "    print(str(Date), ' with type of :' , type(Date))\n",
    "    url = \"https://www.hongkongairport.com/flightinfo-rest/rest/flights/past?date=\" + str(Date) + \"&lang=en&cargo=false&arrival=false\"\n",
    "    print(url)\n",
    "    querystring = {\"Date\":str(Date)}     # Date: String: “YYYY-MM-DD” ; Arrival: (true=arrival, false=departure); Cargo (true=cargo, false=passenger)\n",
    "\n",
    "    response = requests.request(\"GET\", url, params=querystring)\n",
    "    #pprint.pprint(response.text)\n",
    "    df = pd.read_json(response.text)\n",
    "    df_backup = df\n",
    "    df1 = pd.DataFrame( df['list'][0])                  ### To turn the data into DataFrame & remove cancelled flight\n",
    "    df1['dept_date']=Date\n",
    "    df_temp = df1[df1['statusCode']=='DA']                #Remove::  CX = Cancelled , DU = Delayed to another day\n",
    "    df_list_all_date.append(df_temp)\n",
    "    ###print(df_temp)\n",
    "\n",
    "    #df_temp.to_csv('air_Raw_' + str(Date) + '.csv' , index = None)  #---->to csv file \n",
    "#for y in range(1, df_all_date):\n",
    "df_all_date = pd.concat(df_list_all_date)\n",
    "print(df_all_date)\n",
    "df_all_date.to_csv('air' + '_Raw_202012' + '.csv' , index = None)"
   ]
  },
  {
   "cell_type": "code",
   "execution_count": 4,
   "metadata": {},
   "outputs": [
    {
     "output_type": "stream",
     "name": "stdout",
     "text": [
      "2020-12-01  with type of : <class 'datetime.date'>\nhttps://www.hongkongairport.com/flightinfo-rest/rest/flights/past?date=2020-12-01&lang=en&cargo=false&arrival=false\n"
     ]
    },
    {
     "output_type": "error",
     "ename": "NameError",
     "evalue": "name 'df_all_date' is not defined",
     "traceback": [
      "\u001b[1;31m---------------------------------------------------------------------------\u001b[0m",
      "\u001b[1;31mNameError\u001b[0m                                 Traceback (most recent call last)",
      "\u001b[1;32m<ipython-input-4-695404646ca1>\u001b[0m in \u001b[0;36m<module>\u001b[1;34m\u001b[0m\n\u001b[0;32m     27\u001b[0m     \u001b[0mdf_temp\u001b[0m \u001b[1;33m=\u001b[0m \u001b[0mdf1\u001b[0m\u001b[1;33m[\u001b[0m\u001b[0mdf1\u001b[0m\u001b[1;33m[\u001b[0m\u001b[1;34m'statusCode'\u001b[0m\u001b[1;33m]\u001b[0m\u001b[1;33m==\u001b[0m\u001b[1;34m'DA'\u001b[0m\u001b[1;33m]\u001b[0m                \u001b[1;31m#Remove::  CX = Cancelled , DU = Delayed to another day\u001b[0m\u001b[1;33m\u001b[0m\u001b[1;33m\u001b[0m\u001b[0m\n\u001b[0;32m     28\u001b[0m \u001b[1;33m\u001b[0m\u001b[0m\n\u001b[1;32m---> 29\u001b[1;33m     \u001b[0mdf_all_date\u001b[0m\u001b[1;33m=\u001b[0m \u001b[0mpd\u001b[0m\u001b[1;33m.\u001b[0m\u001b[0mconcat\u001b[0m\u001b[1;33m(\u001b[0m\u001b[1;33m[\u001b[0m\u001b[0mdf_all_date\u001b[0m \u001b[1;33m,\u001b[0m \u001b[0mdf_temp\u001b[0m \u001b[1;33m]\u001b[0m\u001b[1;33m)\u001b[0m\u001b[1;33m\u001b[0m\u001b[1;33m\u001b[0m\u001b[0m\n\u001b[0m\u001b[0;32m     30\u001b[0m     \u001b[0mdf_list_all_date\u001b[0m\u001b[1;33m.\u001b[0m\u001b[0mappend\u001b[0m\u001b[1;33m(\u001b[0m\u001b[0mdf_temp\u001b[0m\u001b[1;33m)\u001b[0m\u001b[1;33m\u001b[0m\u001b[1;33m\u001b[0m\u001b[0m\n\u001b[0;32m     31\u001b[0m     \u001b[1;31m###print(df_temp)\u001b[0m\u001b[1;33m\u001b[0m\u001b[1;33m\u001b[0m\u001b[1;33m\u001b[0m\u001b[0m\n",
      "\u001b[1;31mNameError\u001b[0m: name 'df_all_date' is not defined"
     ]
    }
   ],
   "source": [
    "#part 1 - version 4:  To get all Dec data _ keep original codes\n",
    "import requests\n",
    "import re\n",
    "import pandas as pd\n",
    "import pprint                  # Prints the nicely formatted dictionary\n",
    "import datetime\n",
    "#from datetime import datetime   # to do time calculation  #convert to datetime_object = datetime.strptime(datetime_str, '%m/%d/%y %H:%M:%S')    \n",
    "from datetime import timedelta\n",
    "\n",
    "date_base = datetime.date(2020, 12, 1)\n",
    "num_days = 31\n",
    "df_list_all_date = []\n",
    "\n",
    "for x in range(num_days):\n",
    "    Date = date_base + datetime.timedelta(days=x)\n",
    "    print(str(Date), ' with type of :' , type(Date))\n",
    "    url = \"https://www.hongkongairport.com/flightinfo-rest/rest/flights/past?date=\" + str(Date) + \"&lang=en&cargo=false&arrival=false\"\n",
    "    print(url)\n",
    "    querystring = {\"Date\":str(Date)}     # Date: String: “YYYY-MM-DD” ; Arrival: (true=arrival, false=departure); Cargo (true=cargo, false=passenger)\n",
    "\n",
    "    response = requests.request(\"GET\", url, params=querystring)\n",
    "    #pprint.pprint(response.text)\n",
    "    df = pd.read_json(response.text)\n",
    "    df_backup = df\n",
    "    df1 = pd.DataFrame( df['list'][0])                  ### To turn the data into DataFrame & remove cancelled flight\n",
    "    df1['dept_date']=Date\n",
    "    df_temp = df1[df1['statusCode']=='DA']                #Remove::  CX = Cancelled , DU = Delayed to another day\n",
    "\n",
    "    df_all_date= pd.concat([df_all_date , df_temp ])\n",
    "    df_list_all_date.append(df_temp)\n",
    "    ###print(df_temp)\n",
    "\n",
    "    #df_temp.to_csv('air_Raw_' + str(Date) + '.csv' , index = None)  #---->to csv file \n",
    "#for y in range(1, df_all_date):\n",
    "#df_all_date = pd.concat(df_list_all_date)\n",
    "print(df_all_date)\n",
    "df_all_date.to_csv('air' + '_Raw_202012v4' + '.csv' , index = None)"
   ]
  },
  {
   "cell_type": "code",
   "execution_count": 3,
   "metadata": {},
   "outputs": [
    {
     "output_type": "error",
     "ename": "NameError",
     "evalue": "name 'pd' is not defined",
     "traceback": [
      "\u001b[1;31m---------------------------------------------------------------------------\u001b[0m",
      "\u001b[1;31mNameError\u001b[0m                                 Traceback (most recent call last)",
      "\u001b[1;32m<ipython-input-3-62d8935838c8>\u001b[0m in \u001b[0;36m<module>\u001b[1;34m\u001b[0m\n\u001b[1;32m----> 1\u001b[1;33m \u001b[0mdf_temp\u001b[0m \u001b[1;33m=\u001b[0m \u001b[0mpd\u001b[0m\u001b[1;33m.\u001b[0m\u001b[0mread_csv\u001b[0m\u001b[1;33m(\u001b[0m\u001b[1;34m'air'\u001b[0m \u001b[1;33m+\u001b[0m \u001b[1;34m'_Raw_202012v4'\u001b[0m \u001b[1;33m+\u001b[0m \u001b[1;34m'.csv'\u001b[0m\u001b[1;33m)\u001b[0m\u001b[1;33m\u001b[0m\u001b[1;33m\u001b[0m\u001b[0m\n\u001b[0m\u001b[0;32m      2\u001b[0m \u001b[0mprint\u001b[0m\u001b[1;33m(\u001b[0m\u001b[0mdf_temp\u001b[0m\u001b[1;33m.\u001b[0m\u001b[0minfo\u001b[0m\u001b[1;33m(\u001b[0m\u001b[1;33m)\u001b[0m\u001b[1;33m)\u001b[0m\u001b[1;33m\u001b[0m\u001b[1;33m\u001b[0m\u001b[0m\n",
      "\u001b[1;31mNameError\u001b[0m: name 'pd' is not defined"
     ]
    }
   ],
   "source": [
    "df_temp = pd.read_csv('air' + '_Raw_202012v4' + '.csv')\n",
    "print(df_temp.info())"
   ]
  },
  {
   "cell_type": "code",
   "execution_count": 112,
   "metadata": {
    "tags": []
   },
   "outputs": [
    {
     "output_type": "error",
     "ename": "SyntaxError",
     "evalue": "invalid syntax (<ipython-input-112-f9961a375cbb>, line 35)",
     "traceback": [
      "\u001b[1;36m  File \u001b[1;32m\"<ipython-input-112-f9961a375cbb>\"\u001b[1;36m, line \u001b[1;32m35\u001b[0m\n\u001b[1;33m    df_temp['flight number'] = df_temp['flight'].apply( lambda x: x[0]['no'])       #<<original\u001b[0m\n\u001b[1;37m          ^\u001b[0m\n\u001b[1;31mSyntaxError\u001b[0m\u001b[1;31m:\u001b[0m invalid syntax\n"
     ]
    }
   ],
   "source": [
    "#part 2 - version 2:    To work on data based on Dec csv file as dataframe called df_temp\n",
    "#doc:   https://www.hongkongairport.com/iwov-resources/misc/opendata/Flight_Information_DataSpec_en.pdf\n",
    "#site:  https://data.gov.hk/en-data/dataset/aahk-team1-flight-info\n",
    "import requests\n",
    "import re\n",
    "import pandas as pd\n",
    "import numpy as np\n",
    "import pprint                   \n",
    "from datetime import datetime      \n",
    "from datetime import timedelta  #add one day \n",
    "import json \n",
    "\n",
    "#df_temp = df_all_date\n",
    "df_temp = pd.read_csv('air' + '_Raw_202012v4' + '.csv')\n",
    "\n",
    "#------------------------------Data processing---------------------------------------\n",
    "# destination column\n",
    "df_temp['destination'] = df_temp['destination'].astype('str')  \n",
    "df_temp['destination'].str.extract(r'([A-Z]+)',expand = True)\n",
    "\n",
    "# fix formatting of flight column\n",
    "for yy in df_temp['flight']:\n",
    "    temp_list=[]\n",
    "    #print( y[1:-2].split(', '))\n",
    "    for z in yy[1:-2].split(', '):\n",
    "        print(json.loads(z)\n",
    "    \n",
    "\n",
    "# flight number column\n",
    "#df_temp['flight number'] = df_temp['flight'][0][0]['no']          --to do a lambda function\n",
    "#def get_flight_number(y):\n",
    "#    print('y is: ', y[0]['no'] , ' type of y is: ', type(y[0]['no']))\n",
    "#    return y[0]['no']\n",
    "\n",
    "df_temp['flight number'] = df_temp['flight'].apply( lambda x: x[0]['no'])       #<<original\n",
    "\n",
    "# airline column\n",
    "#df_temp['airline'] = df_temp['flight'][0][0]['airline']          --to do a lambda function\n",
    "df_temp['airline'] = df_temp['flight'].apply( lambda x: x[0]['no'][0:2])        \n",
    "\n",
    "#actual_dept_time column\n",
    "df_temp['est_dept_time'] = df_temp['time'].apply( lambda x: datetime.strptime(x, '%H:%M'))\n",
    "df_temp['day'] = df_temp['status'].apply( lambda x: timedelta(days=1) if '(' in x else timedelta(days=0) )\n",
    "df_temp['actual_dept_time'] = df_temp['status'].str.extract(r'Dep (..:..)')\n",
    "\n",
    "#change datetime format for actual dept time\n",
    "#def getdatetime(x):\n",
    "#    print('x is: ', x , ' type of x is: ', type(x))\n",
    "#    return datetime.strptime(x, '%H:%M')\n",
    "#for y in df_temp['actual_dept_time']:\n",
    "#    getdatetime(y)\n",
    "#df_temp['actual_dept_time'] = df_temp['actual_dept_time'].apply( getdatetime())\n",
    "df_temp['actual_dept_time'] = df_temp['actual_dept_time'].apply( lambda x: datetime.strptime(x, '%H:%M'))\n",
    "#df_temp['actual_dept_time'] = df_temp['actual_dept_time'].apply( lambda x: datetime.strptime(x + \"|\" + Date, '%H:%M|%Y-%m-%d'))\n",
    "\n",
    "#delay column\n",
    "df_temp['delay_time'] = df_temp['actual_dept_time'] - df_temp['est_dept_time']  + df_temp['day']\n",
    "df_temp['delay_time'] = df_temp['delay_time'].apply( lambda x: x if x > timedelta(days=0) else timedelta(days=0))\n",
    "#---------------------------------Data processing (Done) -------------------------------\n",
    "\n",
    "#------------------------------Data type testing-------------------------------------\n",
    "print('type of a column: ', type(df_temp['actual_dept_time'][0]) , ' | value of a column: ', df_temp['actual_dept_time'][0] )\n",
    "#datetime_object = datetime.strptime(df_temp['time'][0], '%H:%M')\n",
    "#print(datetime_object)\n",
    "print('type of a column: ', type(df_temp['flight'][0]) , ' | value of a column: ', df_temp['flight'][0] )\n",
    "#------------------------------Data type testing-------------------------------------\n",
    "\n",
    "#------------------------------File export-------------------------------------------\n",
    "df_temp.to_csv('air' + '_Finalizing_202012v4' + '.csv' , index = None)\n",
    "print(df_temp.head())\n",
    "\n",
    "#trying excel\n",
    "#df_excel = pd.DataFrame( list(df1.values()) , columns=list(df1.keys()))\n",
    "#print(df_excel)\n",
    "\n",
    "#import xlsxwriter\n",
    "#new_list = [['first', 'second'], ['third', 'four'], [1, 2, 3, 4, 5, 6]]\n",
    "#with xlsxwriter.Workbook('air_test_3.xlsx') as workbook:\n",
    "#    worksheet = workbook.add_worksheet()\n",
    "#    for row_num, data in enumerate(df1):\n",
    "#        worksheet.write_row(row_num, 0, data)\n",
    "#print(df_temp.head())"
   ]
  },
  {
   "cell_type": "code",
   "execution_count": 37,
   "metadata": {
    "tags": []
   },
   "outputs": [
    {
     "output_type": "stream",
     "name": "stdout",
     "text": [
      "type of a column:  <class 'pandas._libs.tslibs.timestamps.Timestamp'>  | value of a column:  1900-01-01 23:55:00\ntype of a column:  <class 'list'>  | value of a column:  [{'no': 'RJ 1291', 'airline': 'RJA'}]\n  destination terminal aisle gate   time  \\\n0     ['AMM']       T1         24  00:00   \n1     ['LAX']       T1     B   28  00:15   \n3     ['AMS']       T1     B   43  00:50   \n4     ['LHR']       T1     B   60  01:00   \n5     ['LHR']       T1          7  01:10   \n\n                                              flight statusCode  \\\n0              [{'no': 'RJ 1291', 'airline': 'RJA'}]         DA   \n1  [{'no': 'CX 880', 'airline': 'CPA'}, {'no': 'M...         DA   \n3               [{'no': 'CX 271', 'airline': 'CPA'}]         DA   \n4               [{'no': 'CX 255', 'airline': 'CPA'}]         DA   \n5              [{'no': 'BA 032F', 'airline': 'BAW'}]         DA   \n\n                   status flight number airline       est_dept_time    day  \\\n0  Dep 23:55 (02/12/2020)       RJ 1291      RJ 1900-01-01 00:00:00 1 days   \n1               Dep 00:28        CX 880      CX 1900-01-01 00:15:00 0 days   \n3               Dep 01:27        CX 271      CX 1900-01-01 00:50:00 0 days   \n4               Dep 01:58        CX 255      CX 1900-01-01 01:00:00 0 days   \n5               Dep 01:10       BA 032F      BA 1900-01-01 01:10:00 0 days   \n\n     actual_dept_time      delay_time  \n0 1900-01-01 23:55:00 1 days 23:55:00  \n1 1900-01-01 00:28:00 0 days 00:13:00  \n3 1900-01-01 01:27:00 0 days 00:37:00  \n4 1900-01-01 01:58:00 0 days 00:58:00  \n5 1900-01-01 01:10:00 0 days 00:00:00  \n"
     ]
    }
   ],
   "source": [
    "#part 2 - version 1:    To work on data based on response text above saved as df in json format\n",
    "#doc:   https://www.hongkongairport.com/iwov-resources/misc/opendata/Flight_Information_DataSpec_en.pdf\n",
    "#site:  https://data.gov.hk/en-data/dataset/aahk-team1-flight-info\n",
    "import requests\n",
    "import re\n",
    "import pandas as pd\n",
    "import numpy as np\n",
    "import pprint                   \n",
    "from datetime import datetime      \n",
    "from datetime import timedelta  #add one day          \n",
    "#url = \"https://www.hongkongairport.com/flightinfo-rest/rest/flights/past?date=%3cDate%3e&arrival=%3cBoolen%3e&lang=%3cLanguage%3e&cargo=%3cBoolean\"\n",
    "#https://www.hongkongairport.com/flightinfo-rest/rest/flights/past?date=&lang=en&cargo=false&arrival=false\n",
    "\n",
    "#url = \"https://www.hongkongairport.com/flightinfo-rest/rest/flights/past?date=2020-12-01&lang=en&cargo=false&arrival=false\"\n",
    "#querystring = {\"Date\":\"2020-12-01\"}\n",
    "\n",
    "#response = requests.request(\"GET\", url, headers=headers, params=querystring)\n",
    "#df = pd.read_json(response.text)\n",
    "#df = df[df.line_race != 0]\n",
    "\n",
    "#df_temp = pd.DataFrame ( df['list'][0] ) \n",
    "#df1 = pd.DataFrame( df['list'][0])                  ### To turn the data into DataFrame & remove cancelled flight\n",
    "df_temp = df1[df1['statusCode']=='DA']                #CX = Cancelled , DU = Delayed to another day\n",
    "#df_temp.to_csv('air20201203.csv' , index = None)  #-----\n",
    "\n",
    "#------------------------------Data processing---------------------------------------\n",
    "# destination column\n",
    "df_temp['destination'] = df_temp['destination'].astype('str')  \n",
    "df_temp['destination'].str.extract(r'([A-Z]+)',expand = True)\n",
    "\n",
    "# flight number column\n",
    "#df_temp['flight number'] = df_temp['flight'][0][0]['no']          --to do a lambda function\n",
    "df_temp['flight number'] = df_temp['flight'].apply( lambda x: x[0]['no'])       \n",
    "\n",
    "# airline column\n",
    "#df_temp['airline'] = df_temp['flight'][0][0]['airline']          --to do a lambda function\n",
    "df_temp['airline'] = df_temp['flight'].apply( lambda x: x[0]['no'][0:2])        \n",
    "\n",
    "#actual_dept_time column\n",
    "df_temp['est_dept_time'] = df_temp['time'].apply( lambda x: datetime.strptime(x, '%H:%M'))\n",
    "df_temp['day'] = df_temp['status'].apply( lambda x: timedelta(days=1) if '(' in x else timedelta(days=0) )\n",
    "df_temp['actual_dept_time'] = df_temp['status'].str.extract(r'Dep (..:..)')\n",
    "\n",
    "#change datetime format for actual dept time\n",
    "def getdatetime(x):\n",
    "    print('x is: ', x , ' type of x is: ', type(x))\n",
    "    return datetime.strptime(x, '%H:%M')\n",
    "#for y in df_temp['actual_dept_time']:\n",
    "#    getdatetime(y)\n",
    "#df_temp['actual_dept_time'] = df_temp['actual_dept_time'].apply( getdatetime())\n",
    "df_temp['actual_dept_time'] = df_temp['actual_dept_time'].apply( lambda x: datetime.strptime(x, '%H:%M'))\n",
    "#df_temp['actual_dept_time'] = df_temp['actual_dept_time'].apply( lambda x: datetime.strptime(x + \"|\" + Date, '%H:%M|%Y-%m-%d'))\n",
    "\n",
    "#delay column\n",
    "df_temp['delay_time'] = df_temp['actual_dept_time'] - df_temp['est_dept_time']  + df_temp['day']\n",
    "df_temp['delay_time'] = df_temp['delay_time'].apply( lambda x: x if x > timedelta(days=0) else timedelta(days=0))\n",
    "#---------------------------------Data processing (Done) -------------------------------\n",
    "\n",
    "#------------------------------Data type testing-------------------------------------\n",
    "print('type of a column: ', type(df_temp['actual_dept_time'][0]) , ' | value of a column: ', df_temp['actual_dept_time'][0] )\n",
    "#datetime_object = datetime.strptime(df_temp['time'][0], '%H:%M')\n",
    "#print(datetime_object)\n",
    "print('type of a column: ', type(df_temp['flight'][0]) , ' | value of a column: ', df_temp['flight'][0] )\n",
    "#------------------------------Data type testing-------------------------------------\n",
    "\n",
    "#------------------------------File export-------------------------------------------\n",
    "df_temp.to_csv('air' + Date + '.csv' , index = None)\n",
    "print(df_temp.head())\n",
    "\n",
    "#trying excel\n",
    "#df_excel = pd.DataFrame( list(df1.values()) , columns=list(df1.keys()))\n",
    "#print(df_excel)\n",
    "\n",
    "#import xlsxwriter\n",
    "#new_list = [['first', 'second'], ['third', 'four'], [1, 2, 3, 4, 5, 6]]\n",
    "#with xlsxwriter.Workbook('air_test_3.xlsx') as workbook:\n",
    "#    worksheet = workbook.add_worksheet()\n",
    "#    for row_num, data in enumerate(df1):\n",
    "#        worksheet.write_row(row_num, 0, data)\n",
    "#print(df_temp.head())"
   ]
  },
  {
   "cell_type": "code",
   "execution_count": 59,
   "metadata": {},
   "outputs": [
    {
     "output_type": "stream",
     "name": "stdout",
     "text": [
      "start_date  2015-05-01\ndate_base 2020-12-01\n2015-05-01 07:00:00\n"
     ]
    }
   ],
   "source": [
    "import datetime\n",
    "# (hours, minutes)\n",
    "start_time = datetime.time(7, 0)\n",
    "# (year, month, day)\n",
    "start_date = datetime.date(2015, 5, 1)\n",
    "date_base = datetime.date(2020, 12, 1)\n",
    "print('start_date ' , start_date)\n",
    "print('date_base' , date_base)\n",
    "# Create a datetime object\n",
    "start_datetime = datetime.datetime.combine(start_date, start_time)\n",
    "print(start_datetime)\n",
    "#print( df_temp['actual_dept_time'][0])\n"
   ]
  },
  {
   "cell_type": "code",
   "execution_count": 86,
   "metadata": {},
   "outputs": [
    {
     "output_type": "execute_result",
     "data": {
      "text/plain": [
       "  company_name      local\n",
       "0     company1  location1\n",
       "1     company2  location2\n",
       "2     company3  location3"
      ],
      "text/html": "<div>\n<style scoped>\n    .dataframe tbody tr th:only-of-type {\n        vertical-align: middle;\n    }\n\n    .dataframe tbody tr th {\n        vertical-align: top;\n    }\n\n    .dataframe thead th {\n        text-align: right;\n    }\n</style>\n<table border=\"1\" class=\"dataframe\">\n  <thead>\n    <tr style=\"text-align: right;\">\n      <th></th>\n      <th>company_name</th>\n      <th>local</th>\n    </tr>\n  </thead>\n  <tbody>\n    <tr>\n      <th>0</th>\n      <td>company1</td>\n      <td>location1</td>\n    </tr>\n    <tr>\n      <th>1</th>\n      <td>company2</td>\n      <td>location2</td>\n    </tr>\n    <tr>\n      <th>2</th>\n      <td>company3</td>\n      <td>location3</td>\n    </tr>\n  </tbody>\n</table>\n</div>"
     },
     "metadata": {},
     "execution_count": 86
    }
   ],
   "source": [
    "#list to dataframe   (line by line)\n",
    "company_name_list = [['company1', 'location1'], ['company2', 'location2'], ['company3', 'location3']]\n",
    "df = pd.DataFrame(company_name_list, columns=['company_name', 'local'])\n",
    "df"
   ]
  },
  {
   "cell_type": "code",
   "execution_count": 276,
   "metadata": {},
   "outputs": [
    {
     "output_type": "execute_result",
     "data": {
      "text/plain": [
       "datetime.timedelta(days=1)"
      ]
     },
     "metadata": {},
     "execution_count": 276
    }
   ],
   "source": [
    "timedelta(days=1)"
   ]
  },
  {
   "cell_type": "code",
   "execution_count": null,
   "metadata": {},
   "outputs": [],
   "source": []
  }
 ]
}