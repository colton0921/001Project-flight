{
 "metadata": {
  "language_info": {
   "codemirror_mode": {
    "name": "ipython",
    "version": 3
   },
   "file_extension": ".py",
   "mimetype": "text/x-python",
   "name": "python",
   "nbconvert_exporter": "python",
   "pygments_lexer": "ipython3",
   "version": 3
  },
  "orig_nbformat": 2
 },
 "nbformat": 4,
 "nbformat_minor": 2,
 "cells": [
  {
   "source": [
    "FOUNDATION - GROUP PROJECT (Python and Data Analysis)\n",
    "\n",
    "For this project, you will need to work as a team and allocate the different tasks to cover the whole data analysis process. \n",
    "Here the target will be for all of you to work together on:\n",
    "- Collecting data using APIs/Webscraping from\n",
    "        - local/global Job Sites eg. use Indeed and glassdoor API or scrape jobsDB\n",
    "        - career related data from reddit using reddit API \n",
    "       - Retail Websites like HKTVMall, Ali Express\n",
    "       - Finance related websites eg. HK exchange\n",
    "        - Topic of your choice \n",
    "- Clean the data\n",
    "- Explore the data and find insights\n",
    "- Visualize it and find what you found\n",
    "- Create a presentation(ppt) for your project. Here is a template for creating slides:\n",
    "\n",
    "Aim (1) - What are you doing\n",
    "Business Value (1) - Why are you doing this\n",
    "Data Collection (1) - Website, How (Webscraping/API, libraries used)\n",
    "Data Preprocessing (1-2)- in brief what you did for cleaning , final DF\n",
    "Analysis (4-6)\n",
    "Challenges and Next Steps (1)\n",
    "Conclusion (1)\n",
    "\n",
    "10 - 15 min presentation + 5 min QA and Comments  (Please co-ordinate well within your groups so that everyone speaks). \n",
    "Timing for presentation will be followed strictly\n",
    "\n",
    "There is no limitation on tools you can use. Ideally, Python to showcase what you learn in the foundation.\n",
    "Any question, please reach out to your instructors."
   ],
   "cell_type": "code",
   "metadata": {},
   "execution_count": null,
   "outputs": []
  },
  {
   "cell_type": "code",
   "execution_count": null,
   "metadata": {},
   "outputs": [],
   "source": [
    "- Collecting data using APIs/Webscraping                        \n",
    "    (API: HK airport ; \n",
    "    Webscraping:    IATA codes   https://www.iata.org/en/publications/directories/code-search/?airline.page=219&airline.search=)\n",
    "                    DelayNoMore  https://www.flightdnm.com/en/city/Los%20Angeles\n",
    "- Clean the data\n",
    "    1. Drop flight status   (cancelled / date changed)\n",
    "    2. create and edit column formatting    (New: Delay time) (Formatting: destination, date time for calculation )\n",
    "\n",
    "ToDo:\n",
    "    To merge the airlines' ranking\n",
    "    to do mapping to get full name of airlines\n",
    "    complete the datetime format\n",
    "    distance > delay  ??Kalab\n",
    "    v  delay by airline\n",
    "    v  stats (avg, min, max)\n",
    "    x  by season / covid/ time \n",
    "    x  stats?\n",
    "\n",
    "- Explore the data and find insights\n",
    "    ??\n",
    "- Visualize it & find what you found\n",
    "- present with ppt with groupmates\n",
    "\n",
    "Challenges:\n",
    "    formatting(from list of dict > dict)\n"
   ]
  }
 ]
}