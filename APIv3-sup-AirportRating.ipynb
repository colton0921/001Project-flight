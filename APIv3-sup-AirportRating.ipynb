{
 "metadata": {
  "language_info": {
   "codemirror_mode": {
    "name": "ipython",
    "version": 3
   },
   "file_extension": ".py",
   "mimetype": "text/x-python",
   "name": "python",
   "nbconvert_exporter": "python",
   "pygments_lexer": "ipython3",
   "version": "3.7.6-final"
  },
  "orig_nbformat": 2,
  "kernelspec": {
   "name": "python3",
   "display_name": "Python 3",
   "language": "python"
  }
 },
 "nbformat": 4,
 "nbformat_minor": 2,
 "cells": [
  {
   "cell_type": "code",
   "execution_count": null,
   "metadata": {},
   "outputs": [],
   "source": [
    "#part 1 - get data from internet\n",
    "from bs4 import BeautifulSoup\n",
    "import requests\n",
    "import pandas as pd\n",
    "\n",
    "URL = \"https://www.worldairlineawards.com/worlds-top-100-airlines-2019/\"\n",
    "html = requests.get(URL)\n",
    "#print(html)\n",
    "soup = BeautifulSoup(html.text, \"html.parser\")\n",
    "name_list = []\n",
    "rating_list = []\n",
    "\n",
    "\n",
    "for i in soup.find_all(class_=\"mb-0 text-responsive-h4\"):\n",
    "    name_list.append(i.text)\n",
    "for i in soup.find_all(class_=\"mb-0 text-responsive-h4 font-weight-regular\"):\n",
    "    rating_list.append(i.text)\n",
    "air_rate =dict(zip(name_list,rating_list))\n",
    "df_airline_rating = pd.DataFrame(list(air_rate.items()),columns = ['Name','Rating'])\n",
    "df_airline_rating['Rating'] = df_airline_rating['Rating'].astype(int)\n",
    "df_airline_rating.to_csv('./data/airline_rating.csv' , index = None)\n",
    "#print(df_airline_rating.head(10))"
   ]
  },
  {
   "cell_type": "code",
   "execution_count": null,
   "metadata": {},
   "outputs": [],
   "source": [
    "#part 2 - get file record to do mapping\n",
    "df_airline_rating = pd.read_csv('./data/airline_rating_edit_csv.csv')\n",
    "def get_rating(x):\n",
    "    try:\n",
    "        #x = ''.join(ch for ch in x if (ch.isalpha()) or ch==' ')  #get only character/ space in string\n",
    "        df_airline_rating.index[df_airline_rating['IATA_name']==x].tolist()[0]\n",
    "        df_airline_rating['Rating'][df_airline_rating.index[df_airline_rating['IATA_name']==x].tolist()[0]]\n",
    "        return df_airline_rating['Rating'][df_airline_rating.index[df_airline_rating['IATA_name']==x].tolist()[0]]\n",
    "    except:\n",
    "        return '100+'\n",
    "\n",
    "df_temp['airlines_rating'] = df_temp['airlines'].apply(lambda x: get_rating(x))\n",
    "\n",
    "print('Rating of Emirates is:  ' , get_rating('Emirates'))\n",
    "print('Rating of Emirates is:  ' , type( get_rating('Emirates')))\n",
    "df_temp['airlines'].head(10)\n",
    "df_temp['airlines_rating'].head(10)\n"
   ]
  },
  {
   "cell_type": "code",
   "execution_count": 98,
   "metadata": {
    "tags": []
   },
   "outputs": [
    {
     "output_type": "stream",
     "name": "stdout",
     "text": [
      "                     Name  Rating\n0           Qatar Airways       1\n1      Singapore Airlines       2\n2  ANA All Nippon Airways       3\n3  Cathay Pacific Airways       4\n4                Emirates       5\n5                 EVA Air       6\n6         Hainan Airlines       7\n7          Qantas Airways       8\n8               Lufthansa       9\n9            Thai Airways      10\nrating of Emirates is:   5\nrating of Emirates is:   <class 'numpy.int32'>\n"
     ]
    },
    {
     "output_type": "execute_result",
     "data": {
      "text/plain": [
       "0     Cathay Pacific Airways Ltd.\n",
       "1     Cathay Pacific Airways Ltd.\n",
       "2          British Airways p.l.c.\n",
       "3          British Airways p.l.c.\n",
       "4     Cathay Pacific Airways Ltd.\n",
       "5     Cathay Pacific Airways Ltd.\n",
       "6            Rossiya Airlines JSC\n",
       "8       Korean Air Lines Co. Ltd.\n",
       "12     Nepal Airlines Corporation\n",
       "14    Cathay Pacific Airways Ltd.\n",
       "Name: airlines, dtype: object"
      ]
     },
     "metadata": {},
     "execution_count": 98
    }
   ],
   "source": [
    "from bs4 import BeautifulSoup\n",
    "\n",
    "URL = \"https://www.worldairlineawards.com/worlds-top-100-airlines-2019/\"\n",
    "html = requests.get(URL)\n",
    "#print(html)\n",
    "soup = BeautifulSoup(html.text, \"html.parser\")\n",
    "name_list = []\n",
    "rating_list = []\n",
    "\n",
    "\n",
    "for i in soup.find_all(class_=\"mb-0 text-responsive-h4\"):\n",
    "    name_list.append(i.text)\n",
    "for i in soup.find_all(class_=\"mb-0 text-responsive-h4 font-weight-regular\"):\n",
    "    rating_list.append(i.text)\n",
    "air_rate =dict(zip(name_list,rating_list))\n",
    "df_airline_rating = pd.DataFrame(list(air_rate.items()),columns = ['Name','Rating'])\n",
    "df_airline_rating['Rating'] = df_airline_rating['Rating'].astype(int)\n",
    "df_airline_rating.to_csv('./data/airline_rating.csv' , index = None)\n",
    "print(df_airline_rating.head(10))\n",
    "\n",
    "def get_rating(x):\n",
    "    try:\n",
    "        x = ''.join(ch for ch in x if (ch.isalpha()) or ch==' ')  #get only character/ space in string\n",
    "        df_airline_rating.index[df_airline_rating['Name']==x].tolist()[0]\n",
    "        df_airline_rating['Rating'][df_airline_rating.index[df_airline_rating['Name']==x].tolist()[0]]\n",
    "        return df_airline_rating['Rating'][df_airline_rating.index[df_airline_rating['Name']==x].tolist()[0]]\n",
    "    except:\n",
    "        return '100+'\n",
    "\n",
    "print('Rating of Emirates is:  ' , get_rating('Emirates'))\n",
    "print('Rating of Emirates is:  ' , type( get_rating('Emirates')))\n",
    "df_temp['airlines_rating'] = df_temp['airlines'].apply(lambda x: get_rating(x))\n",
    "df_temp['airlines_rating'].head(10)\n",
    "df_temp['airlines'].head(10)"
   ]
  },
  {
   "cell_type": "code",
   "execution_count": null,
   "metadata": {},
   "outputs": [],
   "source": []
  }
 ]
}